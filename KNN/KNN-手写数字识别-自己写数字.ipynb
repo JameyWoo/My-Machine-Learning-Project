{
 "cells": [
  {
   "cell_type": "code",
   "execution_count": 9,
   "metadata": {},
   "outputs": [],
   "source": [
    "import numpy as np\n",
    "from os import listdir"
   ]
  },
  {
   "cell_type": "code",
   "execution_count": 10,
   "metadata": {},
   "outputs": [],
   "source": [
    "def img2vec(filename):\n",
    "    file = open(filename)\n",
    "    vec = np.zeros((1, 1024))\n",
    "    for i in range(32):\n",
    "        line = file.readline()\n",
    "        for j in range(32):\n",
    "            vec[0, i*32 + j] = int(line[j])\n",
    "    return vec"
   ]
  },
  {
   "cell_type": "code",
   "execution_count": 11,
   "metadata": {},
   "outputs": [],
   "source": [
    "filename1 = \"digits\\\\trainingDigits\\\\0_0.txt\"\n",
    "vec1 = img2vec(filename1)"
   ]
  },
  {
   "cell_type": "code",
   "execution_count": 12,
   "metadata": {},
   "outputs": [],
   "source": [
    "def showImg(filename):\n",
    "    file = open(filename)\n",
    "    for i in range(32):\n",
    "        line = file.readline()\n",
    "        for j in range(32):\n",
    "            print(line[j], end='')\n",
    "        print()"
   ]
  },
  {
   "cell_type": "code",
   "execution_count": 13,
   "metadata": {},
   "outputs": [
    {
     "name": "stdout",
     "output_type": "stream",
     "text": [
      "00000000000001111000000000000000\n",
      "00000000000011111110000000000000\n",
      "00000000001111111111000000000000\n",
      "00000001111111111111100000000000\n",
      "00000001111111011111100000000000\n",
      "00000011111110000011110000000000\n",
      "00000011111110000000111000000000\n",
      "00000011111110000000111100000000\n",
      "00000011111110000000011100000000\n",
      "00000011111110000000011100000000\n",
      "00000011111100000000011110000000\n",
      "00000011111100000000001110000000\n",
      "00000011111100000000001110000000\n",
      "00000001111110000000000111000000\n",
      "00000001111110000000000111000000\n",
      "00000001111110000000000111000000\n",
      "00000001111110000000000111000000\n",
      "00000011111110000000001111000000\n",
      "00000011110110000000001111000000\n",
      "00000011110000000000011110000000\n",
      "00000001111000000000001111000000\n",
      "00000001111000000000011111000000\n",
      "00000001111000000000111110000000\n",
      "00000001111000000001111100000000\n",
      "00000000111000000111111000000000\n",
      "00000000111100011111110000000000\n",
      "00000000111111111111110000000000\n",
      "00000000011111111111110000000000\n",
      "00000000011111111111100000000000\n",
      "00000000001111111110000000000000\n",
      "00000000000111110000000000000000\n",
      "00000000000011000000000000000000\n"
     ]
    }
   ],
   "source": [
    "filename1 = \"digits\\\\trainingDigits\\\\0_0.txt\"\n",
    "showImg(filename1)"
   ]
  },
  {
   "cell_type": "code",
   "execution_count": 14,
   "metadata": {},
   "outputs": [],
   "source": [
    "def classify0(inX, dataSet, labels, k):\n",
    "    m = dataSet.shape[0]\n",
    "    inX = np.tile(inX, (m, 1))\n",
    "    inX -= dataSet\n",
    "    inX **= 2\n",
    "    inX = inX.sum(axis=1)\n",
    "    arg = inX.argsort()\n",
    "    dic = {}\n",
    "    for i in range(k):\n",
    "        label = labels[arg[i]]\n",
    "        dic[label] = dic.get(label, 0) + 1\n",
    "    sortedDic = sorted(dic.items(), key=lambda item:item[1], reverse=True)\n",
    "    return sortedDic[0][0]"
   ]
  },
  {
   "cell_type": "code",
   "execution_count": 16,
   "metadata": {},
   "outputs": [],
   "source": [
    "from PIL import Image"
   ]
  },
  {
   "cell_type": "code",
   "execution_count": 26,
   "metadata": {},
   "outputs": [],
   "source": [
    "def handwritingClassTest(k):\n",
    "    filenames = listdir('digits/trainingDigits')\n",
    "    m = len(filenames)\n",
    "    trainData = np.zeros((m, 1024))\n",
    "    trainLabels = np.zeros(m)\n",
    "    for i in range(m):\n",
    "        filenameStr = filenames[i]\n",
    "        trainLabels[i] = int(filenameStr[0])\n",
    "        vec = img2vec(\"digits/trainingDigits/%s\"%filenameStr)\n",
    "        trainData[i] = vec\n",
    "    return trainData, trainLabels"
   ]
  },
  {
   "cell_type": "code",
   "execution_count": 30,
   "metadata": {},
   "outputs": [],
   "source": [
    "trainData, trainLabels = handwritingClassTest(3)"
   ]
  },
  {
   "cell_type": "code",
   "execution_count": 67,
   "metadata": {},
   "outputs": [],
   "source": [
    "def classImage(filename):\n",
    "    img = Image.open(filename).convert('1')\n",
    "    img = np.array(img,dtype=np.float64).reshape(1, 1024)\n",
    "    for i in range(1024):\n",
    "        if img[0,i] == 0.0:\n",
    "            img[0,i] = 1.0\n",
    "        else:\n",
    "            img[0,i] = 0.0\n",
    "    ans = classify0(img, trainData, trainLabels, 3)\n",
    "    print(\"图片 %s 的数字被识别成数字 %d\"%(filename, int(ans)))"
   ]
  },
  {
   "cell_type": "code",
   "execution_count": 76,
   "metadata": {
    "scrolled": true
   },
   "outputs": [
    {
     "name": "stdout",
     "output_type": "stream",
     "text": [
      "图片 pictures\\0.png 的数字被识别成数字 0\n",
      "图片 pictures\\1-2.png 的数字被识别成数字 1\n",
      "图片 pictures\\1.png 的数字被识别成数字 1\n",
      "图片 pictures\\2-2.png 的数字被识别成数字 2\n",
      "图片 pictures\\2.png 的数字被识别成数字 2\n",
      "图片 pictures\\3-2.png 的数字被识别成数字 7\n",
      "图片 pictures\\3.png 的数字被识别成数字 3\n",
      "图片 pictures\\4-2.png 的数字被识别成数字 4\n",
      "图片 pictures\\4-3.png 的数字被识别成数字 4\n",
      "图片 pictures\\4.png 的数字被识别成数字 4\n",
      "图片 pictures\\5-1.png 的数字被识别成数字 5\n",
      "图片 pictures\\5.png 的数字被识别成数字 5\n",
      "图片 pictures\\6.png 的数字被识别成数字 6\n",
      "图片 pictures\\7.png 的数字被识别成数字 7\n",
      "图片 pictures\\8-2.png 的数字被识别成数字 1\n",
      "图片 pictures\\8.png 的数字被识别成数字 8\n",
      "图片 pictures\\9.png 的数字被识别成数字 9\n"
     ]
    }
   ],
   "source": [
    "from os import listdir\n",
    "pngs = listdir('pictures')\n",
    "for i in range(len(pngs)):\n",
    "    classImage('pictures\\%s'%pngs[i])"
   ]
  },
  {
   "cell_type": "code",
   "execution_count": null,
   "metadata": {},
   "outputs": [],
   "source": []
  }
 ],
 "metadata": {
  "kernelspec": {
   "display_name": "Python 3",
   "language": "python",
   "name": "python3"
  },
  "language_info": {
   "codemirror_mode": {
    "name": "ipython",
    "version": 3
   },
   "file_extension": ".py",
   "mimetype": "text/x-python",
   "name": "python",
   "nbconvert_exporter": "python",
   "pygments_lexer": "ipython3",
   "version": "3.7.0"
  }
 },
 "nbformat": 4,
 "nbformat_minor": 2
}
