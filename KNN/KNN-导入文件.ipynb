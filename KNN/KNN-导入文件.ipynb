{
 "cells": [
  {
   "cell_type": "markdown",
   "metadata": {},
   "source": [
    "一种读取数据的普遍方法，将这样用换行以及空格分开的数据读入到numpy数组中"
   ]
  },
  {
   "cell_type": "code",
   "execution_count": 8,
   "metadata": {},
   "outputs": [],
   "source": [
    "import numpy as np"
   ]
  },
  {
   "cell_type": "code",
   "execution_count": 23,
   "metadata": {},
   "outputs": [],
   "source": [
    "def fileToNumpy(filename):\n",
    "    file = open(filename)\n",
    "    file_lines = file.readlines()\n",
    "    numberOfLines = len(file_lines)\n",
    "    dataArray = np.zeros((numberOfLines, 3))\n",
    "    labels = []\n",
    "    index = 0\n",
    "    for line in file_lines:\n",
    "        line = line.strip() # 参数为空时，默认删除开头、结尾处空白符（包括'\\n', '\\r',  '\\t',  ' ')\n",
    "        formLine = line.split('\\t')\n",
    "        dataArray[index,:] = formLine[0:3]\n",
    "        labels.append((formLine[-1]))\n",
    "        index += 1\n",
    "    return dataArray, labels"
   ]
  },
  {
   "cell_type": "code",
   "execution_count": 26,
   "metadata": {},
   "outputs": [],
   "source": [
    "filename = \"datingTestSet.txt\"\n",
    "dataArray, labels = fileToNumpy(filename)\n",
    "# print(dataArray, labels)"
   ]
  },
  {
   "cell_type": "code",
   "execution_count": 27,
   "metadata": {},
   "outputs": [],
   "source": [
    "def fileToNumpy_2(filename):\n",
    "    file = open(filename)\n",
    "    lines = file.readlines()\n",
    "    length = len(lines)\n",
    "    data = np.zeros((length, 3))\n",
    "    labels = []\n",
    "    index = 0\n",
    "    for line in lines:\n",
    "        line = line.strip()\n",
    "        one = line.split(',')\n",
    "        data[index,:] = one[0:-1]\n",
    "        labels.append(one[-1])\n",
    "        index += 1\n",
    "    return data, labels"
   ]
  },
  {
   "cell_type": "code",
   "execution_count": 34,
   "metadata": {},
   "outputs": [
    {
     "name": "stdout",
     "output_type": "stream",
     "text": [
      "[[1. 2. 3.]\n",
      " [2. 1. 0.]]\n",
      "['好', '坏']\n"
     ]
    }
   ],
   "source": [
    "filename = \"testData.txt\"\n",
    "data, labels = fileToNumpy_2(filename)\n",
    "print(data)\n",
    "print(labels)"
   ]
  }
 ],
 "metadata": {
  "kernelspec": {
   "display_name": "Python 3",
   "language": "python",
   "name": "python3"
  },
  "language_info": {
   "codemirror_mode": {
    "name": "ipython",
    "version": 3
   },
   "file_extension": ".py",
   "mimetype": "text/x-python",
   "name": "python",
   "nbconvert_exporter": "python",
   "pygments_lexer": "ipython3",
   "version": "3.7.0"
  }
 },
 "nbformat": 4,
 "nbformat_minor": 2
}
