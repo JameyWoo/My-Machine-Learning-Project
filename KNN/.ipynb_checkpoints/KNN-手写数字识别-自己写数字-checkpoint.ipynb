{
 "cells": [
  {
   "cell_type": "code",
   "execution_count": 1,
   "metadata": {},
   "outputs": [],
   "source": [
    "import numpy as np\n",
    "from os import listdir"
   ]
  },
  {
   "cell_type": "code",
   "execution_count": 2,
   "metadata": {},
   "outputs": [],
   "source": [
    "def img2vec(filename):\n",
    "    file = open(filename)\n",
    "    vec = np.zeros((1, 1024))\n",
    "    for i in range(32):\n",
    "        line = file.readline()\n",
    "        for j in range(32):\n",
    "            vec[0, i*32 + j] = int(line[j])\n",
    "    return vec"
   ]
  },
  {
   "cell_type": "code",
   "execution_count": 3,
   "metadata": {},
   "outputs": [],
   "source": [
    "filename1 = \"digits\\\\trainingDigits\\\\0_0.txt\"\n",
    "vec1 = img2vec(filename1)"
   ]
  },
  {
   "cell_type": "code",
   "execution_count": 4,
   "metadata": {},
   "outputs": [],
   "source": [
    "def showImg(filename):\n",
    "    file = open(filename)\n",
    "    for i in range(32):\n",
    "        line = file.readline()\n",
    "        for j in range(32):\n",
    "            print(line[j], end='')\n",
    "        print()"
   ]
  },
  {
   "cell_type": "code",
   "execution_count": 5,
   "metadata": {},
   "outputs": [
    {
     "name": "stdout",
     "output_type": "stream",
     "text": [
      "00000000000001111000000000000000\n",
      "00000000000011111110000000000000\n",
      "00000000001111111111000000000000\n",
      "00000001111111111111100000000000\n",
      "00000001111111011111100000000000\n",
      "00000011111110000011110000000000\n",
      "00000011111110000000111000000000\n",
      "00000011111110000000111100000000\n",
      "00000011111110000000011100000000\n",
      "00000011111110000000011100000000\n",
      "00000011111100000000011110000000\n",
      "00000011111100000000001110000000\n",
      "00000011111100000000001110000000\n",
      "00000001111110000000000111000000\n",
      "00000001111110000000000111000000\n",
      "00000001111110000000000111000000\n",
      "00000001111110000000000111000000\n",
      "00000011111110000000001111000000\n",
      "00000011110110000000001111000000\n",
      "00000011110000000000011110000000\n",
      "00000001111000000000001111000000\n",
      "00000001111000000000011111000000\n",
      "00000001111000000000111110000000\n",
      "00000001111000000001111100000000\n",
      "00000000111000000111111000000000\n",
      "00000000111100011111110000000000\n",
      "00000000111111111111110000000000\n",
      "00000000011111111111110000000000\n",
      "00000000011111111111100000000000\n",
      "00000000001111111110000000000000\n",
      "00000000000111110000000000000000\n",
      "00000000000011000000000000000000\n"
     ]
    }
   ],
   "source": [
    "filename1 = \"digits\\\\trainingDigits\\\\0_0.txt\"\n",
    "showImg(filename1)"
   ]
  },
  {
   "cell_type": "code",
   "execution_count": 6,
   "metadata": {},
   "outputs": [],
   "source": [
    "def classify0(inX, dataSet, labels, k):\n",
    "    m = dataSet.shape[0]\n",
    "    inX = np.tile(inX, (m, 1))\n",
    "    inX -= dataSet\n",
    "    inX **= 2\n",
    "    inX = inX.sum(axis=1)\n",
    "    arg = inX.argsort()\n",
    "    dic = {}\n",
    "    for i in range(k):\n",
    "        label = labels[arg[i]]\n",
    "        dic[label] = dic.get(label, 0) + 1\n",
    "    sortedDic = sorted(dic.items(), key=lambda item:item[1], reverse=True)\n",
    "    return sortedDic[0][0]"
   ]
  },
  {
   "cell_type": "code",
   "execution_count": 7,
   "metadata": {},
   "outputs": [],
   "source": [
    "def handwritingClassTest(k):\n",
    "    filenames = listdir('digits/trainingDigits')\n",
    "    m = len(filenames)\n",
    "    trainData = np.zeros((m, 1024))\n",
    "    trainLabels = np.zeros(m)\n",
    "    for i in range(m):\n",
    "        filenameStr = filenames[i]\n",
    "        trainLabels[i] = int(filenameStr[0])\n",
    "        vec = img2vec(\"digits/trainingDigits/%s\"%filenameStr)\n",
    "        trainData[i] = vec\n",
    "    filenames = listdir('digits/testDigits')\n",
    "    filenames = filenames[:-1]\n",
    "    m = len(filenames)\n",
    "    error = 0.0\n",
    "    for i in range(m):\n",
    "        filenameStr = filenames[i]\n",
    "        vec = img2vec(\"digits/testDigits/%s\"%filenameStr)\n",
    "        predLabel = classify0(vec, trainData, trainLabels, k)\n",
    "        realLabel = int(filenameStr[0])\n",
    "#         print(\"KNN predct the label is %s, and the real label is %s\"%(predLabel, realLabel))\n",
    "        if predLabel != realLabel:\n",
    "            error += 1\n",
    "    print(\"错误率是 %f\"%(error / m))"
   ]
  },
  {
   "cell_type": "code",
   "execution_count": 9,
   "metadata": {},
   "outputs": [
    {
     "name": "stdout",
     "output_type": "stream",
     "text": [
      "i = 3 时，错误率是 0.010582\n",
      "i = 5 时，错误率是 0.017989\n",
      "i = 7 时，错误率是 0.022222\n",
      "i = 9 时，错误率是 0.022222\n",
      "i = 11 时，错误率是 0.020106\n"
     ]
    }
   ],
   "source": [
    "for i in range(3, 12, 2):\n",
    "    print(\"i = %d 时，\"%i,end='')\n",
    "    handwritingClassTest(i)"
   ]
  }
 ],
 "metadata": {
  "kernelspec": {
   "display_name": "Python 3",
   "language": "python",
   "name": "python3"
  },
  "language_info": {
   "codemirror_mode": {
    "name": "ipython",
    "version": 3
   },
   "file_extension": ".py",
   "mimetype": "text/x-python",
   "name": "python",
   "nbconvert_exporter": "python",
   "pygments_lexer": "ipython3",
   "version": "3.7.0"
  }
 },
 "nbformat": 4,
 "nbformat_minor": 2
}
