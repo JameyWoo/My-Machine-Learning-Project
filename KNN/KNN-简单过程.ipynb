{
 "cells": [
  {
   "cell_type": "code",
   "execution_count": 3,
   "metadata": {},
   "outputs": [],
   "source": [
    "from numpy import *\n",
    "import numpy as np\n",
    "import operator\n",
    "\n",
    "\n",
    "# print(\"hello, world\")\n",
    "\n",
    "def createDataSet():\n",
    "    group = array([[1.0, 1.1], [1.0, 1.0], [0, 0], [0, 0.1]]) # 特征向量\n",
    "    labels = ['A', 'A', 'B', 'B'] # 标签\n",
    "    return group, labels\n",
    "\n",
    "group, labels = createDataSet()"
   ]
  },
  {
   "cell_type": "code",
   "execution_count": 4,
   "metadata": {},
   "outputs": [
    {
     "name": "stdout",
     "output_type": "stream",
     "text": [
      "B\n"
     ]
    }
   ],
   "source": [
    "def classify0(inX, dataSet, labels, k):\n",
    "    dataSetSize = dataSet.shape[0] # 特征向量的数量，4\n",
    "    diffMat = tile(inX, (dataSetSize, 1)) - dataSet # tile方法可以将矩阵以指定的方式扩展，这里用来快速计算差值\n",
    "    sqDiffMat = diffMat ** 2 # 计算差值的平方\n",
    "    sqDistances = sqDiffMat.sum(axis=1) # 平方和的计算\n",
    "    distances = sqDistances ** 0.5 # 开平方，得到距离\n",
    "    sortedDistIndicied = distances.argsort()# 按数值的升序排列返回下标\n",
    "    classCount = {}\n",
    "    for i in range(k):\n",
    "        voteIlabel = labels[sortedDistIndicied[i]]\n",
    "        classCount[voteIlabel] = classCount.get(voteIlabel, 0) + 1 # 字典的get方法，如果有这个key，则选择它的值，否则选择0，然后+1\n",
    "    sortedClassCount = sorted(classCount.items(), # 给字典排序\n",
    "                              key=operator.itemgetter(1), reverse=True)\n",
    "    return sortedClassCount[0][0]\n",
    "\n",
    "print(classify0([0.2, 0.5], group, labels, 3))"
   ]
  },
  {
   "cell_type": "code",
   "execution_count": 7,
   "metadata": {},
   "outputs": [
    {
     "name": "stdout",
     "output_type": "stream",
     "text": [
      "[3 7]\n",
      "[4 6]\n"
     ]
    }
   ],
   "source": [
    "a = [[1, 2], \n",
    "     [3, 4]]\n",
    "a = np.array(a)\n",
    "print(a.sum(axis=1)) # axis=1表示的是按行计算\n",
    "print(a.sum(axis=0)) # axis=0表示的是按列计算"
   ]
  },
  {
   "cell_type": "code",
   "execution_count": 8,
   "metadata": {},
   "outputs": [
    {
     "data": {
      "text/plain": [
       "[('b', 5), ('c', 3), ('a', 1)]"
      ]
     },
     "execution_count": 8,
     "metadata": {},
     "output_type": "execute_result"
    }
   ],
   "source": [
    "dic = {'a':1, 'b':5, 'c':3}\n",
    "sorted(dic.items(), key=lambda item:item[1], reverse=True) # 给字典按照值从大到小排序"
   ]
  }
 ],
 "metadata": {
  "kernelspec": {
   "display_name": "Python 3",
   "language": "python",
   "name": "python3"
  },
  "language_info": {
   "codemirror_mode": {
    "name": "ipython",
    "version": 3
   },
   "file_extension": ".py",
   "mimetype": "text/x-python",
   "name": "python",
   "nbconvert_exporter": "python",
   "pygments_lexer": "ipython3",
   "version": "3.7.0"
  }
 },
 "nbformat": 4,
 "nbformat_minor": 2
}
